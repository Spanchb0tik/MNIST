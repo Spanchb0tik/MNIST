{
 "cells": [
  {
   "cell_type": "code",
   "execution_count": 2,
   "id": "c811c7f0-11d9-4b25-98d5-bb87d4782296",
   "metadata": {},
   "outputs": [
    {
     "name": "stdout",
     "output_type": "stream",
     "text": [
      "Collecting tqdm\n",
      "  Using cached tqdm-4.66.1-py3-none-any.whl.metadata (57 kB)\n",
      "Requirement already satisfied: colorama in c:\\users\\davyd\\.anaconda\\loh\\envs\\pytorch\\lib\\site-packages (from tqdm) (0.4.6)\n",
      "Using cached tqdm-4.66.1-py3-none-any.whl (78 kB)\n",
      "Installing collected packages: tqdm\n",
      "Successfully installed tqdm-4.66.1\n",
      "Note: you may need to restart the kernel to use updated packages.\n"
     ]
    }
   ],
   "source": [
    "pip install tqdm"
   ]
  },
  {
   "cell_type": "code",
   "execution_count": 3,
   "id": "b89f53ea-d269-4850-854f-61eec6b5d2f4",
   "metadata": {
    "tags": []
   },
   "outputs": [],
   "source": [
    "import torch\n",
    "import pandas as pd\n",
    "import torchvision\n",
    "from tqdm import tqdm\n",
    "import matplotlib.pyplot as plt\n",
    "import numpy as np"
   ]
  },
  {
   "cell_type": "code",
   "execution_count": 4,
   "id": "cd0c2b27-53b0-4ad0-998d-e50facad915a",
   "metadata": {
    "tags": []
   },
   "outputs": [],
   "source": [
    "train_data = pd.read_csv('C:/Users/davyd/Downloads/PYTORCH/Mnist/mnist_test.csv')\n",
    "test_data = pd.read_csv('C:/Users/davyd/Downloads/PYTORCH/Mnist/mnist_test.csv')"
   ]
  },
  {
   "cell_type": "code",
   "execution_count": null,
   "id": "b71d8ecf-4579-4a05-a825-9b276cd2fc54",
   "metadata": {},
   "outputs": [],
   "source": [
    "def CLASS_COUNT(paths,path, class_n):\n",
    "    class_counts=pd.DataFrame(columns=[\"class_name\"], index= range(len(paths)))\n",
    "                \n",
    "    for i in range (len(paths)):\n",
    "        try:\n",
    "            f = open(path+\"/\"+paths[i], 'r')\n",
    "            class_name=f.read()\n",
    "            class_name=int(class_name[0])\n",
    "            if class_name in range(0,6):\n",
    "                class_counts.loc[i,\"class_name\"]=int(class_name)\n",
    "            else:\n",
    "                print(class_name , i)\n",
    "        except:\n",
    "            print(i)\n",
    "\n",
    "    class_counts.dropna(inplace=True)\n",
    "    df=class_counts[\"class_name\"].value_counts().sort_values()\n",
    "\n",
    "    data={\n",
    "        \"class_index\": [i for i in range(0,6)],\n",
    "        \"count\":[df.iloc[i] for i in range(6)]\n",
    "    }\n",
    "\n",
    "    df=pd.DataFrame(data)\n",
    "\n",
    "    # Создаем данные для диаграммы\n",
    "    x = data[\"class_index\"]\n",
    "    y = data[\"count\"]\n",
    "\n",
    "    # Создаем столбчатую диаграмму\n",
    "    fig = go.Figure(data=[go.Bar(x=x, y=y)])\n",
    "\n",
    "    fig.update_layout(\n",
    "        title= f'COUNTS {class_n} CLASS',  # Заголовок графика  # Подпись оси x\n",
    "        yaxis_title='Count',  # Подпись оси y\n",
    "        width=800,  # Ширина в пикселях\n",
    "        height=600,  # Высота в пикселях\n",
    "    )\n",
    "\n",
    "    # Отображаем диаграмму\n",
    "    fig.show()"
   ]
  },
  {
   "cell_type": "code",
   "execution_count": 5,
   "id": "892ca6c2-51ce-4400-820d-d513e72f65bd",
   "metadata": {
    "tags": []
   },
   "outputs": [],
   "source": [
    "class Dataset(torch.utils.data.Dataset):\n",
    "    def __init__(self, data):\n",
    "        super().__init__()\n",
    "        self.pics = data.drop(columns = ['label']).values\n",
    "        self.labels = data['label'].values\n",
    "    \n",
    "    def __len__(self):\n",
    "        return len(self.labels)\n",
    "    \n",
    "    def __getitem__(self, i):\n",
    "        return torch.tensor(self.pics[i]) / 255, torch.tensor(self.labels[i])"
   ]
  },
  {
   "cell_type": "code",
   "execution_count": 6,
   "id": "938f616c-296c-49e0-8475-4f4053c98aea",
   "metadata": {
    "tags": []
   },
   "outputs": [],
   "source": [
    "train_dataset = Dataset(train_data)\n",
    "test_dataset = Dataset(test_data)"
   ]
  },
  {
   "cell_type": "code",
   "execution_count": 9,
   "id": "e149c30a-14ea-489b-868e-6a85e0b8abc9",
   "metadata": {
    "tags": []
   },
   "outputs": [
    {
     "data": {
      "text/plain": [
       "784"
      ]
     },
     "execution_count": 9,
     "metadata": {},
     "output_type": "execute_result"
    }
   ],
   "source": [
    "train_dataset[0][0].shape[0]"
   ]
  },
  {
   "cell_type": "code",
   "execution_count": 10,
   "id": "983715b8-cf20-4224-8ba5-5ec731373322",
   "metadata": {
    "tags": []
   },
   "outputs": [],
   "source": [
    "train_dataloader = torch.utils.data.DataLoader(train_dataset, batch_size=128, shuffle=True)\n",
    "test_dataloader = torch.utils.data.DataLoader(test_dataset, batch_size=128, shuffle=False)"
   ]
  },
  {
   "cell_type": "code",
   "execution_count": 11,
   "id": "e5b2bd05-c313-43a4-a34a-c59eaf397fa1",
   "metadata": {
    "tags": []
   },
   "outputs": [],
   "source": [
    "class mlp(torch.nn.Module):\n",
    "    def __init__(self, hidden_dim,hidden_dim_1):\n",
    "        super().__init__()\n",
    "        self.mlp = torch.nn.Sequential(\n",
    "            torch.nn.Linear(in_features=train_dataset[0][0].shape[0], out_features=hidden_dim, bias=False),\n",
    "            torch.nn.ReLU(),\n",
    "            torch.nn.Linear(in_features=hidden_dim, out_features=hidden_dim_1, bias=False),\n",
    "            torch.nn.ReLU(),\n",
    "            torch.nn.Linear(in_features=hidden_dim_1, out_features=hidden_dim_1, bias=False),\n",
    "            torch.nn.ReLU(),\n",
    "            torch.nn.Linear(in_features=hidden_dim_1, out_features=10, bias=True),\n",
    "        )\n",
    "        \n",
    "    def forward(self, x):\n",
    "        x = self.mlp(x)\n",
    "        return x"
   ]
  },
  {
   "cell_type": "code",
   "execution_count": 12,
   "id": "1f80a490-07b4-44ad-9bbd-1c460ff4c22b",
   "metadata": {
    "tags": []
   },
   "outputs": [],
   "source": [
    "model = mlp(hidden_dim = 512,hidden_dim_1=256)"
   ]
  },
  {
   "cell_type": "code",
   "execution_count": null,
   "id": "7e67f6b1-a871-49dc-aa5e-a4a0773e6109",
   "metadata": {},
   "outputs": [],
   "source": [
    "def Vubros(tip, path_label,path_images)  \n",
    "    print(tip)\n",
    "    paths_label=os.listdir(path_label)\n",
    "    paths_images=os.listdir(path_images)\n",
    "    count_oshibka=0\n",
    "    for i in range(len(paths_label)):\n",
    "        f = open(path_label+\"/\"+paths_label[i], 'r')\n",
    "        class_name=f.read()\n",
    "        if  str(class_name.split(\" \")[0]) not in ['0','1','2','3','4','5']:\n",
    "            count_oshibka+=1\n",
    "            f.close()\n",
    "            os.remove(path_label+\"/\"+paths_label[i])\n",
    "            os.remove(path_images+\"/\"+paths_images[i])\n",
    "\n",
    "            print(f\"Ошибка в label {i}\")\n",
    "        else:\n",
    "            try:\n",
    "                class_name.split(\" \")[0]+class_name.split(\" \")[1]+class_name.split(\" \")[2]+class_name.split(\" \")[3]\n",
    "            except:\n",
    "                count_oshibka+=1\n",
    "                f.close()\n",
    "                os.remove(path_label+\"/\"+paths_label[i])\n",
    "                os.remove(path_images+\"/\"+paths_images[i])\n",
    "                print(f\"Ошибка в label {i}\")"
   ]
  },
  {
   "cell_type": "code",
   "execution_count": 13,
   "id": "bada4c0a-9fa9-49b8-8d62-eaa4146da222",
   "metadata": {
    "tags": []
   },
   "outputs": [],
   "source": [
    "epochs = 10\n",
    "device = 'cpu' # <- for mac\n",
    "#for nvidia -> device = 'cuda' \n",
    "\n",
    "optim = torch.optim.Adam(model.parameters(), lr = 1e-3)\n",
    "loss_fn = torch.nn.CrossEntropyLoss()"
   ]
  },
  {
   "cell_type": "code",
   "execution_count": 14,
   "id": "cc62da83-3754-400d-b217-f5d56559d889",
   "metadata": {
    "tags": []
   },
   "outputs": [],
   "source": [
    "def train_epoch(\n",
    "    model,\n",
    "    train_dataloader,\n",
    "    test_dataloader,\n",
    "    optimizer,\n",
    "    loss_fn,\n",
    "    device\n",
    "):\n",
    "    model.to(device)\n",
    "    train_losses = []\n",
    "    test_losses = []\n",
    "    train_accuracy = []\n",
    "    test_accuracy = []\n",
    "    model.train()\n",
    "    # Training process\n",
    "    for x, y in train_dataloader:\n",
    "        x = x.to(device)\n",
    "        y = y.to(device)\n",
    "        \n",
    "        optimizer.zero_grad()\n",
    "        \n",
    "        preds = model(x).softmax(dim = 1)\n",
    "        \n",
    "        loss = loss_fn(preds, y)\n",
    "        \n",
    "        train_losses.append(loss / len(train_dataloader))\n",
    "        train_accuracy.append(((preds.argmax(dim = 1) == y).sum() / x.shape[0]) / len(train_dataloader))\n",
    "    \n",
    "        loss.backward()\n",
    "        optimizer.step()\n",
    "        \n",
    "    model.eval()\n",
    "    with torch.no_grad():\n",
    "        for x, y in test_dataloader:\n",
    "            x = x.to(device)\n",
    "            y = y.to(device)\n",
    "\n",
    "            preds = model(x).softmax(dim = 1)\n",
    "\n",
    "            loss = loss_fn(preds, y)\n",
    "            \n",
    "            test_losses.append(loss / len(test_dataloader))\n",
    "            test_accuracy.append(((preds.argmax(dim = 1) == y).sum() / x.shape[0])/ len(test_dataloader))\n",
    "\n",
    "    \n",
    "    print(f'''\n",
    "        Train Loss: {sum(train_losses)}\n",
    "        Train accuracy: {sum(train_accuracy)}\n",
    "        Test Loss: {sum(test_losses)}\n",
    "        Test accuracy: {sum(test_accuracy)}\n",
    "    ''')\n",
    "    \n",
    "    return sum(train_losses), sum(test_losses), sum(train_accuracy), sum(test_accuracy)\n",
    "        \n",
    "        \n",
    "        "
   ]
  },
  {
   "cell_type": "code",
   "execution_count": 15,
   "id": "d1410510-7917-482c-8ac8-64c7c577a04e",
   "metadata": {
    "collapsed": true,
    "jupyter": {
     "outputs_hidden": true
    },
    "tags": []
   },
   "outputs": [
    {
     "name": "stderr",
     "output_type": "stream",
     "text": [
      " 10%|████████████████████                                                                                                                                                                                    | 1/10 [00:01<00:14,  1.61s/it]"
     ]
    },
    {
     "name": "stdout",
     "output_type": "stream",
     "text": [
      "\n",
      "        Train Loss: 1.8289639949798584\n",
      "        Train accuracy: 0.6614913940429688\n",
      "        Test Loss: 1.6639559268951416\n",
      "        Test accuracy: 0.8038963675498962\n",
      "    \n"
     ]
    },
    {
     "name": "stderr",
     "output_type": "stream",
     "text": [
      " 20%|████████████████████████████████████████                                                                                                                                                                | 2/10 [00:04<00:19,  2.46s/it]"
     ]
    },
    {
     "name": "stdout",
     "output_type": "stream",
     "text": [
      "\n",
      "        Train Loss: 1.6332074403762817\n",
      "        Train accuracy: 0.8310917615890503\n",
      "        Test Loss: 1.6098511219024658\n",
      "        Test accuracy: 0.8542325496673584\n",
      "    \n"
     ]
    },
    {
     "name": "stderr",
     "output_type": "stream",
     "text": [
      " 30%|████████████████████████████████████████████████████████████                                                                                                                                            | 3/10 [00:08<00:21,  3.04s/it]"
     ]
    },
    {
     "name": "stdout",
     "output_type": "stream",
     "text": [
      "\n",
      "        Train Loss: 1.6156057119369507\n",
      "        Train accuracy: 0.8473098874092102\n",
      "        Test Loss: 1.6120134592056274\n",
      "        Test accuracy: 0.8504744172096252\n",
      "    \n"
     ]
    },
    {
     "name": "stderr",
     "output_type": "stream",
     "text": [
      " 40%|████████████████████████████████████████████████████████████████████████████████                                                                                                                        | 4/10 [00:11<00:19,  3.25s/it]"
     ]
    },
    {
     "name": "stdout",
     "output_type": "stream",
     "text": [
      "\n",
      "        Train Loss: 1.60299551486969\n",
      "        Train accuracy: 0.8599682450294495\n",
      "        Test Loss: 1.5890154838562012\n",
      "        Test accuracy: 0.8737144470214844\n",
      "    \n"
     ]
    },
    {
     "name": "stderr",
     "output_type": "stream",
     "text": [
      " 50%|████████████████████████████████████████████████████████████████████████████████████████████████████                                                                                                    | 5/10 [00:15<00:16,  3.35s/it]"
     ]
    },
    {
     "name": "stdout",
     "output_type": "stream",
     "text": [
      "\n",
      "        Train Loss: 1.5919773578643799\n",
      "        Train accuracy: 0.8706488013267517\n",
      "        Test Loss: 1.5837053060531616\n",
      "        Test accuracy: 0.878263533115387\n",
      "    \n"
     ]
    },
    {
     "name": "stderr",
     "output_type": "stream",
     "text": [
      " 60%|████████████████████████████████████████████████████████████████████████████████████████████████████████████████████████                                                                                | 6/10 [00:18<00:13,  3.36s/it]"
     ]
    },
    {
     "name": "stdout",
     "output_type": "stream",
     "text": [
      "\n",
      "        Train Loss: 1.537383794784546\n",
      "        Train accuracy: 0.9286985993385315\n",
      "        Test Loss: 1.5231671333312988\n",
      "        Test accuracy: 0.9411590099334717\n",
      "    \n"
     ]
    },
    {
     "name": "stderr",
     "output_type": "stream",
     "text": [
      " 70%|████████████████████████████████████████████████████████████████████████████████████████████████████████████████████████████████████████████                                                            | 7/10 [00:21<00:09,  3.26s/it]"
     ]
    },
    {
     "name": "stdout",
     "output_type": "stream",
     "text": [
      "\n",
      "        Train Loss: 1.51621675491333\n",
      "        Train accuracy: 0.9469937086105347\n",
      "        Test Loss: 1.5033055543899536\n",
      "        Test accuracy: 0.9605420231819153\n",
      "    \n"
     ]
    },
    {
     "name": "stderr",
     "output_type": "stream",
     "text": [
      " 80%|████████████████████████████████████████████████████████████████████████████████████████████████████████████████████████████████████████████████████████████████                                        | 8/10 [00:25<00:06,  3.32s/it]"
     ]
    },
    {
     "name": "stdout",
     "output_type": "stream",
     "text": [
      "\n",
      "        Train Loss: 1.5049901008605957\n",
      "        Train accuracy: 0.958366334438324\n",
      "        Test Loss: 1.4982091188430786\n",
      "        Test accuracy: 0.9646957516670227\n",
      "    \n"
     ]
    },
    {
     "name": "stderr",
     "output_type": "stream",
     "text": [
      " 90%|████████████████████████████████████████████████████████████████████████████████████████████████████████████████████████████████████████████████████████████████████████████████████                    | 9/10 [00:29<00:03,  3.45s/it]"
     ]
    },
    {
     "name": "stdout",
     "output_type": "stream",
     "text": [
      "\n",
      "        Train Loss: 1.5018047094345093\n",
      "        Train accuracy: 0.9608385562896729\n",
      "        Test Loss: 1.490767002105713\n",
      "        Test accuracy: 0.9714203476905823\n",
      "    \n"
     ]
    },
    {
     "name": "stderr",
     "output_type": "stream",
     "text": [
      "100%|███████████████████████████████████████████████████████████████████████████████████████████████████████████████████████████████████████████████████████████████████████████████████████████████████████| 10/10 [00:33<00:00,  3.30s/it]"
     ]
    },
    {
     "name": "stdout",
     "output_type": "stream",
     "text": [
      "\n",
      "        Train Loss: 1.4950892925262451\n",
      "        Train accuracy: 0.9674644470214844\n",
      "        Test Loss: 1.4896740913391113\n",
      "        Test accuracy: 0.972211480140686\n",
      "    \n"
     ]
    },
    {
     "name": "stderr",
     "output_type": "stream",
     "text": [
      "\n"
     ]
    }
   ],
   "source": [
    "train_losses = []\n",
    "test_losses = []\n",
    "train_accuracy = []\n",
    "test_accuracy = []\n",
    "for epoch_i in tqdm(range(epochs)):\n",
    "    epoch_train_losses, epoch_test_losses, epoch_train_accuracy, epoch_test_accuracy = train_epoch(\n",
    "        model,\n",
    "        train_dataloader,\n",
    "        test_dataloader,\n",
    "        optim,\n",
    "        loss_fn,\n",
    "        device\n",
    "    )\n",
    "    train_losses.append(epoch_train_losses)\n",
    "    test_losses.append(epoch_test_losses)\n",
    "    train_accuracy.append(epoch_train_accuracy)\n",
    "    test_accuracy.append(epoch_test_accuracy)"
   ]
  },
  {
   "cell_type": "code",
   "execution_count": 16,
   "id": "55129c0d-d714-45c5-b590-81a5482da284",
   "metadata": {},
   "outputs": [],
   "source": [
    "accuracy_train=[]\n",
    "for i in range(len(train_accuracy)):\n",
    "    accuracy_train.append(train_accuracy[i].tolist())"
   ]
  },
  {
   "cell_type": "code",
   "execution_count": 19,
   "id": "a2114b09-8e5c-4080-be4a-be059e1f02b0",
   "metadata": {},
   "outputs": [],
   "source": [
    "accuracy_test=[]\n",
    "for i in range(len(test_accuracy)):\n",
    "    accuracy_test.append(test_accuracy[i].tolist())"
   ]
  },
  {
   "cell_type": "code",
   "execution_count": 21,
   "id": "500944bb-35e9-43e4-b2dd-b74baea0b12d",
   "metadata": {},
   "outputs": [],
   "source": [
    "losses_train=[]\n",
    "for i in range(len(train_losses)):\n",
    "    losses_train.append(train_losses[i].tolist())"
   ]
  },
  {
   "cell_type": "code",
   "execution_count": 22,
   "id": "c97ff042-55ca-46f8-8c5d-20e623bb150b",
   "metadata": {},
   "outputs": [],
   "source": [
    "losses_test=[]\n",
    "for i in range(len(test_losses)):\n",
    "    losses_test.append(test_losses[i].tolist())"
   ]
  },
  {
   "cell_type": "code",
   "execution_count": 23,
   "id": "51a1ddab-8bdb-4faa-8c3e-6b2bfc85ee23",
   "metadata": {
    "tags": []
   },
   "outputs": [
    {
     "data": {
      "image/png": "[encoded data removed]",
      "text/plain": [
       "<Figure size 640x480 with 1 Axes>"
      ]
     },
     "metadata": {},
     "output_type": "display_data"
    }
   ],
   "source": [
    "plt.plot(accuracy_train, '-r', label='train_accuracy')\n",
    "plt.plot(accuracy_test, '-y', label='test_accuracy')# Построение прямой\n",
    "plt.title('График прямой')  # Заголовок\n",
    "plt.xlabel('Accuracy')  # Подпись оси x\n",
    "plt.ylabel('Score')  # Подпись оси y\n",
    "plt.legend(loc='upper left')  # Отображение легенды\n",
    "plt.grid()  # Отображение сетки\n",
    "plt.show()  # Отображение графика"
   ]
  },
  {
   "cell_type": "code",
   "execution_count": 24,
   "id": "de1c166b-7655-467c-bbe6-f8cf57f53acd",
   "metadata": {},
   "outputs": [
    {
     "data": {
      "image/png": "[encoded data removed]",
      "text/plain": [
       "<Figure size 640x480 with 1 Axes>"
      ]
     },
     "metadata": {},
     "output_type": "display_data"
    }
   ],
   "source": [
    "plt.plot(losses_train, '-r', label='train_accuracy')\n",
    "plt.plot(losses_test, '-y', label='test_accuracy')# Построение прямой\n",
    "plt.title('График прямой')  # Заголовок\n",
    "plt.xlabel('Loss')  # Подпись оси x\n",
    "plt.ylabel('Score')  # Подпись оси y\n",
    "plt.legend(loc='upper left')  # Отображение легенды\n",
    "plt.grid()  # Отображение сетки\n",
    "plt.show()  # Отображение графика"
   ]
  }
 ],
 "metadata": {
  "kernelspec": {
   "display_name": "Python 3",
   "language": "python",
   "name": "python3"
  },
  "language_info": {
   "codemirror_mode": {
    "name": "ipython",
    "version": 3
   },
   "file_extension": ".py",
   "mimetype": "text/x-python",
   "name": "python",
   "nbconvert_exporter": "python",
   "pygments_lexer": "ipython3",
   "version": "3.10.13"
  }
 },
 "nbformat": 4,
 "nbformat_minor": 5
}
